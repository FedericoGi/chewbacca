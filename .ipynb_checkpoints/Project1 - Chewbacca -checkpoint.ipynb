{
 "cells": [
  {
   "cell_type": "code",
   "execution_count": 1,
   "id": "fresh-waters",
   "metadata": {},
   "outputs": [],
   "source": [
    "import pandas as pd\n",
    "import numpy as np\n",
    "pd.set_option('display.max_columns', None)\n",
    "import warnings\n",
    "warnings.filterwarnings('ignore')"
   ]
  },
  {
   "cell_type": "code",
   "execution_count": 3,
   "id": "simplified-pension",
   "metadata": {},
   "outputs": [],
   "source": [
    "data = pd.read_csv('alldata.csv')"
   ]
  },
  {
   "cell_type": "code",
   "execution_count": 4,
   "id": "efficient-laser",
   "metadata": {
    "scrolled": false
   },
   "outputs": [
    {
     "data": {
      "text/html": [
       "<div>\n",
       "<style scoped>\n",
       "    .dataframe tbody tr th:only-of-type {\n",
       "        vertical-align: middle;\n",
       "    }\n",
       "\n",
       "    .dataframe tbody tr th {\n",
       "        vertical-align: top;\n",
       "    }\n",
       "\n",
       "    .dataframe thead th {\n",
       "        text-align: right;\n",
       "    }\n",
       "</style>\n",
       "<table border=\"1\" class=\"dataframe\">\n",
       "  <thead>\n",
       "    <tr style=\"text-align: right;\">\n",
       "      <th></th>\n",
       "      <th>position</th>\n",
       "      <th>company</th>\n",
       "      <th>description</th>\n",
       "      <th>reviews</th>\n",
       "      <th>location</th>\n",
       "    </tr>\n",
       "  </thead>\n",
       "  <tbody>\n",
       "    <tr>\n",
       "      <th>0</th>\n",
       "      <td>Development Director</td>\n",
       "      <td>ALS TDI</td>\n",
       "      <td>Development Director\\nALS Therapy Development ...</td>\n",
       "      <td>NaN</td>\n",
       "      <td>Atlanta, GA 30301</td>\n",
       "    </tr>\n",
       "    <tr>\n",
       "      <th>1</th>\n",
       "      <td>An Ostentatiously-Excitable Principal Research...</td>\n",
       "      <td>The Hexagon Lavish</td>\n",
       "      <td>Job Description\\n\\n\"The road that leads to acc...</td>\n",
       "      <td>NaN</td>\n",
       "      <td>Atlanta, GA</td>\n",
       "    </tr>\n",
       "    <tr>\n",
       "      <th>2</th>\n",
       "      <td>Data Scientist</td>\n",
       "      <td>Xpert Staffing</td>\n",
       "      <td>Growing company located in the Atlanta, GA are...</td>\n",
       "      <td>NaN</td>\n",
       "      <td>Atlanta, GA</td>\n",
       "    </tr>\n",
       "    <tr>\n",
       "      <th>3</th>\n",
       "      <td>Data Analyst</td>\n",
       "      <td>Operation HOPE</td>\n",
       "      <td>DEPARTMENT: Program OperationsPOSITION LOCATIO...</td>\n",
       "      <td>44.0</td>\n",
       "      <td>Atlanta, GA 30303</td>\n",
       "    </tr>\n",
       "    <tr>\n",
       "      <th>4</th>\n",
       "      <td>Assistant Professor -TT - Signal Processing &amp; ...</td>\n",
       "      <td>Emory University</td>\n",
       "      <td>DESCRIPTION\\nThe Emory University Department o...</td>\n",
       "      <td>550.0</td>\n",
       "      <td>Atlanta, GA</td>\n",
       "    </tr>\n",
       "  </tbody>\n",
       "</table>\n",
       "</div>"
      ],
      "text/plain": [
       "                                            position             company  \\\n",
       "0                               Development Director             ALS TDI   \n",
       "1  An Ostentatiously-Excitable Principal Research...  The Hexagon Lavish   \n",
       "2                                     Data Scientist      Xpert Staffing   \n",
       "3                                       Data Analyst      Operation HOPE   \n",
       "4  Assistant Professor -TT - Signal Processing & ...    Emory University   \n",
       "\n",
       "                                         description  reviews  \\\n",
       "0  Development Director\\nALS Therapy Development ...      NaN   \n",
       "1  Job Description\\n\\n\"The road that leads to acc...      NaN   \n",
       "2  Growing company located in the Atlanta, GA are...      NaN   \n",
       "3  DEPARTMENT: Program OperationsPOSITION LOCATIO...     44.0   \n",
       "4  DESCRIPTION\\nThe Emory University Department o...    550.0   \n",
       "\n",
       "             location  \n",
       "0  Atlanta, GA 30301   \n",
       "1         Atlanta, GA  \n",
       "2         Atlanta, GA  \n",
       "3  Atlanta, GA 30303   \n",
       "4         Atlanta, GA  "
      ]
     },
     "execution_count": 4,
     "metadata": {},
     "output_type": "execute_result"
    }
   ],
   "source": [
    "data.head()"
   ]
  },
  {
   "cell_type": "code",
   "execution_count": 16,
   "id": "controversial-architecture",
   "metadata": {
    "scrolled": true
   },
   "outputs": [
    {
     "data": {
      "text/plain": [
       "0       Development Director\\nALS Therapy Development ...\n",
       "1       Job Description\\n\\n\"The road that leads to acc...\n",
       "2       Growing company located in the Atlanta, GA are...\n",
       "3       DEPARTMENT: Program OperationsPOSITION LOCATIO...\n",
       "4       DESCRIPTION\\nThe Emory University Department o...\n",
       "                              ...                        \n",
       "6959    Are you data-driven? We at NetApp believe in t...\n",
       "6960    Pharmacyclics is committed to the development ...\n",
       "6961    Oath, a subsidiary of Verizon, is a values-led...\n",
       "6962    We are the Bing Core Relevance team responsibl...\n",
       "6963    Comcast’s Technology &amp; Product organizatio...\n",
       "Name: description, Length: 6964, dtype: object"
      ]
     },
     "execution_count": 16,
     "metadata": {},
     "output_type": "execute_result"
    }
   ],
   "source": [
    "data.description"
   ]
  },
  {
   "cell_type": "code",
   "execution_count": 17,
   "id": "behind-olympus",
   "metadata": {},
   "outputs": [
    {
     "data": {
      "text/plain": [
       "0                                    Development Director\n",
       "1       An Ostentatiously-Excitable Principal Research...\n",
       "2                                          Data Scientist\n",
       "3                                            Data Analyst\n",
       "4       Assistant Professor -TT - Signal Processing & ...\n",
       "                              ...                        \n",
       "6959            Data Developer / Machine Learning Analyst\n",
       "6960                                          Scientist I\n",
       "6961                                     Intern Scientist\n",
       "6962                      Senior Data & Applied Scientist\n",
       "6963              Principal Data Scientist, Deep Learning\n",
       "Name: position, Length: 6964, dtype: object"
      ]
     },
     "execution_count": 17,
     "metadata": {},
     "output_type": "execute_result"
    }
   ],
   "source": [
    "data.position"
   ]
  },
  {
   "cell_type": "code",
   "execution_count": 5,
   "id": "identical-fellow",
   "metadata": {},
   "outputs": [
    {
     "name": "stdout",
     "output_type": "stream",
     "text": [
      "<class 'pandas.core.frame.DataFrame'>\n",
      "RangeIndex: 6964 entries, 0 to 6963\n",
      "Data columns (total 5 columns):\n",
      " #   Column       Non-Null Count  Dtype  \n",
      "---  ------       --------------  -----  \n",
      " 0   position     6953 non-null   object \n",
      " 1   company      6953 non-null   object \n",
      " 2   description  6953 non-null   object \n",
      " 3   reviews      5326 non-null   float64\n",
      " 4   location     6953 non-null   object \n",
      "dtypes: float64(1), object(4)\n",
      "memory usage: 272.2+ KB\n"
     ]
    }
   ],
   "source": [
    "data.info()"
   ]
  },
  {
   "cell_type": "code",
   "execution_count": 7,
   "id": "advised-irrigation",
   "metadata": {},
   "outputs": [
    {
     "data": {
      "text/plain": [
       "(6964, 5)"
      ]
     },
     "execution_count": 7,
     "metadata": {},
     "output_type": "execute_result"
    }
   ],
   "source": [
    "data.shape"
   ]
  },
  {
   "cell_type": "code",
   "execution_count": 8,
   "id": "critical-bulgarian",
   "metadata": {},
   "outputs": [
    {
     "data": {
      "text/plain": [
       "Index(['position', 'company', 'description', 'reviews', 'location'], dtype='object')"
      ]
     },
     "execution_count": 8,
     "metadata": {},
     "output_type": "execute_result"
    }
   ],
   "source": [
    "data.columns"
   ]
  },
  {
   "cell_type": "code",
   "execution_count": 18,
   "id": "sunrise-allergy",
   "metadata": {},
   "outputs": [
    {
     "data": {
      "text/plain": [
       "Data Scientist                                                 351\n",
       "Senior Data Scientist                                           96\n",
       "Research Analyst                                                64\n",
       "Data Engineer                                                   60\n",
       "Machine Learning Engineer                                       56\n",
       "                                                              ... \n",
       "Sr Machine Learning Scientist - Prime Video Recommendations      1\n",
       "Mechanical Engineer, X                                           1\n",
       "Data Scientist, Investment Research                              1\n",
       "Energy Program Analyst                                           1\n",
       "Genetics Counselor                                               1\n",
       "Name: position, Length: 5242, dtype: int64"
      ]
     },
     "execution_count": 18,
     "metadata": {},
     "output_type": "execute_result"
    }
   ],
   "source": [
    "data['position'].value_counts()"
   ]
  },
  {
   "cell_type": "code",
   "execution_count": null,
   "id": "superb-deposit",
   "metadata": {},
   "outputs": [],
   "source": []
  },
  {
   "cell_type": "code",
   "execution_count": 49,
   "id": "drawn-indonesia",
   "metadata": {},
   "outputs": [],
   "source": [
    "datascience = data[(data[\"position\"]==\"Data Analyst\") | (data[\"position\"]==\"Data Scientist\")]"
   ]
  },
  {
   "cell_type": "code",
   "execution_count": 50,
   "id": "undefined-earthquake",
   "metadata": {},
   "outputs": [
    {
     "data": {
      "text/html": [
       "<div>\n",
       "<style scoped>\n",
       "    .dataframe tbody tr th:only-of-type {\n",
       "        vertical-align: middle;\n",
       "    }\n",
       "\n",
       "    .dataframe tbody tr th {\n",
       "        vertical-align: top;\n",
       "    }\n",
       "\n",
       "    .dataframe thead th {\n",
       "        text-align: right;\n",
       "    }\n",
       "</style>\n",
       "<table border=\"1\" class=\"dataframe\">\n",
       "  <thead>\n",
       "    <tr style=\"text-align: right;\">\n",
       "      <th></th>\n",
       "      <th>position</th>\n",
       "      <th>company</th>\n",
       "      <th>description</th>\n",
       "      <th>reviews</th>\n",
       "      <th>location</th>\n",
       "    </tr>\n",
       "  </thead>\n",
       "  <tbody>\n",
       "    <tr>\n",
       "      <th>2</th>\n",
       "      <td>Data Scientist</td>\n",
       "      <td>Xpert Staffing</td>\n",
       "      <td>Growing company located in the Atlanta, GA are...</td>\n",
       "      <td>NaN</td>\n",
       "      <td>Atlanta, GA</td>\n",
       "    </tr>\n",
       "    <tr>\n",
       "      <th>3</th>\n",
       "      <td>Data Analyst</td>\n",
       "      <td>Operation HOPE</td>\n",
       "      <td>DEPARTMENT: Program OperationsPOSITION LOCATIO...</td>\n",
       "      <td>44.0</td>\n",
       "      <td>Atlanta, GA 30303</td>\n",
       "    </tr>\n",
       "    <tr>\n",
       "      <th>15</th>\n",
       "      <td>Data Scientist</td>\n",
       "      <td>Cotiviti</td>\n",
       "      <td>Cotiviti is looking for an industry leading Da...</td>\n",
       "      <td>104.0</td>\n",
       "      <td>Atlanta, GA</td>\n",
       "    </tr>\n",
       "    <tr>\n",
       "      <th>18</th>\n",
       "      <td>Data Scientist</td>\n",
       "      <td>Relus Cloud</td>\n",
       "      <td>DATA SCIENTIST\\n\\nSUMMARY:\\nAs an Amazon Web S...</td>\n",
       "      <td>NaN</td>\n",
       "      <td>Atlanta, GA</td>\n",
       "    </tr>\n",
       "    <tr>\n",
       "      <th>19</th>\n",
       "      <td>Data Scientist</td>\n",
       "      <td>Inspire Brands</td>\n",
       "      <td>This position is critical to understanding dri...</td>\n",
       "      <td>NaN</td>\n",
       "      <td>Atlanta, GA</td>\n",
       "    </tr>\n",
       "    <tr>\n",
       "      <th>...</th>\n",
       "      <td>...</td>\n",
       "      <td>...</td>\n",
       "      <td>...</td>\n",
       "      <td>...</td>\n",
       "      <td>...</td>\n",
       "    </tr>\n",
       "    <tr>\n",
       "      <th>6703</th>\n",
       "      <td>Data Scientist</td>\n",
       "      <td>Profusa</td>\n",
       "      <td>PURPOSE OF JOB:\\nProfusa is conducting clinica...</td>\n",
       "      <td>NaN</td>\n",
       "      <td>South San Francisco, CA 94080</td>\n",
       "    </tr>\n",
       "    <tr>\n",
       "      <th>6924</th>\n",
       "      <td>Data Scientist</td>\n",
       "      <td>Proofpoint</td>\n",
       "      <td>Company Overview\\nAt Proofpoint, we have a pas...</td>\n",
       "      <td>28.0</td>\n",
       "      <td>Sunnyvale, CA 94089</td>\n",
       "    </tr>\n",
       "    <tr>\n",
       "      <th>6930</th>\n",
       "      <td>Data Scientist</td>\n",
       "      <td>Linc Global, Inc.</td>\n",
       "      <td>Why you should join:\\n\\nJoin us in building th...</td>\n",
       "      <td>NaN</td>\n",
       "      <td>Sunnyvale, CA</td>\n",
       "    </tr>\n",
       "    <tr>\n",
       "      <th>6932</th>\n",
       "      <td>Data Scientist</td>\n",
       "      <td>Oath Inc</td>\n",
       "      <td>Oath, a subsidiary of Verizon, is a values-led...</td>\n",
       "      <td>5.0</td>\n",
       "      <td>Sunnyvale, CA</td>\n",
       "    </tr>\n",
       "    <tr>\n",
       "      <th>6933</th>\n",
       "      <td>Data Scientist</td>\n",
       "      <td>Bosch Group</td>\n",
       "      <td>Job Description\\n\\nPrimary Responsibilities:\\n...</td>\n",
       "      <td>3367.0</td>\n",
       "      <td>Sunnyvale, CA 94085</td>\n",
       "    </tr>\n",
       "  </tbody>\n",
       "</table>\n",
       "<p>373 rows × 5 columns</p>\n",
       "</div>"
      ],
      "text/plain": [
       "            position            company  \\\n",
       "2     Data Scientist     Xpert Staffing   \n",
       "3       Data Analyst     Operation HOPE   \n",
       "15    Data Scientist           Cotiviti   \n",
       "18    Data Scientist        Relus Cloud   \n",
       "19    Data Scientist     Inspire Brands   \n",
       "...              ...                ...   \n",
       "6703  Data Scientist            Profusa   \n",
       "6924  Data Scientist         Proofpoint   \n",
       "6930  Data Scientist  Linc Global, Inc.   \n",
       "6932  Data Scientist           Oath Inc   \n",
       "6933  Data Scientist        Bosch Group   \n",
       "\n",
       "                                            description  reviews  \\\n",
       "2     Growing company located in the Atlanta, GA are...      NaN   \n",
       "3     DEPARTMENT: Program OperationsPOSITION LOCATIO...     44.0   \n",
       "15    Cotiviti is looking for an industry leading Da...    104.0   \n",
       "18    DATA SCIENTIST\\n\\nSUMMARY:\\nAs an Amazon Web S...      NaN   \n",
       "19    This position is critical to understanding dri...      NaN   \n",
       "...                                                 ...      ...   \n",
       "6703  PURPOSE OF JOB:\\nProfusa is conducting clinica...      NaN   \n",
       "6924  Company Overview\\nAt Proofpoint, we have a pas...     28.0   \n",
       "6930  Why you should join:\\n\\nJoin us in building th...      NaN   \n",
       "6932  Oath, a subsidiary of Verizon, is a values-led...      5.0   \n",
       "6933  Job Description\\n\\nPrimary Responsibilities:\\n...   3367.0   \n",
       "\n",
       "                           location  \n",
       "2                       Atlanta, GA  \n",
       "3                Atlanta, GA 30303   \n",
       "15                      Atlanta, GA  \n",
       "18                      Atlanta, GA  \n",
       "19                      Atlanta, GA  \n",
       "...                             ...  \n",
       "6703  South San Francisco, CA 94080  \n",
       "6924            Sunnyvale, CA 94089  \n",
       "6930                  Sunnyvale, CA  \n",
       "6932                  Sunnyvale, CA  \n",
       "6933            Sunnyvale, CA 94085  \n",
       "\n",
       "[373 rows x 5 columns]"
      ]
     },
     "execution_count": 50,
     "metadata": {},
     "output_type": "execute_result"
    }
   ],
   "source": [
    "datascience"
   ]
  },
  {
   "cell_type": "code",
   "execution_count": 48,
   "id": "boxed-bride",
   "metadata": {},
   "outputs": [
    {
     "name": "stdout",
     "output_type": "stream",
     "text": [
      "<class 'pandas.core.frame.DataFrame'>\n",
      "Int64Index: 433 entries, 2 to 6955\n",
      "Data columns (total 5 columns):\n",
      " #   Column       Non-Null Count  Dtype  \n",
      "---  ------       --------------  -----  \n",
      " 0   position     433 non-null    object \n",
      " 1   company      433 non-null    object \n",
      " 2   description  433 non-null    object \n",
      " 3   reviews      259 non-null    float64\n",
      " 4   location     433 non-null    object \n",
      "dtypes: float64(1), object(4)\n",
      "memory usage: 20.3+ KB\n"
     ]
    }
   ],
   "source": [
    "datascience.info()"
   ]
  },
  {
   "cell_type": "code",
   "execution_count": null,
   "id": "necessary-ethics",
   "metadata": {},
   "outputs": [],
   "source": []
  }
 ],
 "metadata": {
  "kernelspec": {
   "display_name": "Python 3",
   "language": "python",
   "name": "python3"
  },
  "language_info": {
   "codemirror_mode": {
    "name": "ipython",
    "version": 3
   },
   "file_extension": ".py",
   "mimetype": "text/x-python",
   "name": "python",
   "nbconvert_exporter": "python",
   "pygments_lexer": "ipython3",
   "version": "3.9.2"
  }
 },
 "nbformat": 4,
 "nbformat_minor": 5
}
